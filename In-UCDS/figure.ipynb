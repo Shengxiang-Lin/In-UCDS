{
 "cells": [
  {
   "cell_type": "markdown",
   "id": "fe6ae447-fdeb-4ceb-916a-6ba1159219cb",
   "metadata": {},
   "source": [
    "# Import Required Libraries"
   ]
  },
  {
   "cell_type": "code",
   "execution_count": 12,
   "id": "9cededc6-34d8-46ca-a8b5-19c2909960a5",
   "metadata": {
    "ExecuteTime": {
     "end_time": "2025-03-29T05:33:07.764061800Z",
     "start_time": "2025-03-29T05:33:07.761553900Z"
    }
   },
   "outputs": [],
   "source": [
    "import numpy as np\n",
    "import matplotlib.pyplot as plt\n",
    "import torch\n",
    "import os\n",
    "import config\n",
    "from tqdm import tqdm\n",
    "from myloss import myLoss\n",
    "from sigdatasets import myDatasetNew\n",
    "import ucds\n",
    "import random\n",
    "import models.NeuMF as NeuMF"
   ]
  },
  {
   "cell_type": "markdown",
   "id": "9b6ef269-aac0-4760-9fbe-6c11a16845c6",
   "metadata": {},
   "source": [
    "# Define Basic Configurations"
   ]
  },
  {
   "cell_type": "code",
   "execution_count": 13,
   "id": "73279981-91ec-4025-b958-dcc4d9509969",
   "metadata": {
    "ExecuteTime": {
     "end_time": "2025-03-29T05:33:08.696158Z",
     "start_time": "2025-03-29T05:33:08.691670Z"
    }
   },
   "outputs": [],
   "source": [
    "def set_seed(seed):\n",
    "    \"\"\"设置全局随机种子以保证实验可复现性\"\"\"\n",
    "    random.seed(seed)          # 设置Python内置random模块的种子\n",
    "    np.random.seed(seed)       # 设置NumPy的随机种子\n",
    "    torch.manual_seed(seed)    # 设置PyTorch的CPU随机种子\n",
    "    torch.cuda.manual_seed(seed)  # 设置PyTorch的当前GPU随机种子\n",
    "    torch.backends.cudnn.deterministic = True  # 启用CuDNN确定性模式\n",
    "    torch.backends.cudnn.benchmark = False     # 禁用CuDNN自动优化\n",
    "\n",
    "SPLIT = \"=\" * 60  # 生成由60个等号组成的分隔字符串\n",
    "L2 = 1e-5         # 定义L2正则化系数（默认值0.00001）"
   ]
  },
  {
   "cell_type": "markdown",
   "id": "76ad9d44-5f00-466a-9627-88d5756b283d",
   "metadata": {},
   "source": [
    "# Define Training Functions and Result Logging"
   ]
  },
  {
   "cell_type": "code",
   "execution_count": 14,
   "id": "ef62b119-6b0c-4baa-8626-68f3f561a294",
   "metadata": {
    "ExecuteTime": {
     "end_time": "2025-03-29T05:33:09.811600400Z",
     "start_time": "2025-03-29T05:33:09.808138500Z"
    }
   },
   "outputs": [],
   "source": [
    "# 记录原始模型和公平模型的自定义损失值\n",
    "original_my_loss_values = []  # 存储原始模型每个epoch的自定义损失值\n",
    "fair_my_loss_values = []      # 存储公平模型每个epoch的自定义损失值\n",
    "# 训练函数（InUCDS算法）\n",
    "def train_InUCDS(epoch):\n",
    "    # 初始化损失记录列表\n",
    "    original_loss_list = [[], [], []]   # 原始模型: [总损失, BCE损失, 自定义损失]\n",
    "    fair_loss_list = [[], [], []]       # 公平模型: [总损失, BCE损失, 自定义损失]\n",
    "    # 使用tqdm创建进度条，遍历数据生成器\n",
    "    for batch_idx, data in tqdm(enumerate(sample_generator)):\n",
    "        # 将数据移动到指定设备（如GPU）\n",
    "        users, items, rating = data[0].to(device), data[1].to(device), data[2].to(device)\n",
    "        # 设置模型为训练模式\n",
    "        model_original.train()\n",
    "        model_fair.train()\n",
    "        # 清空模型梯度\n",
    "        original_model_opt.zero_grad()\n",
    "        fair_model_opt.zero_grad()\n",
    "        # ----------------------------------------------------\n",
    "        # 训练原始模型\n",
    "        # ----------------------------------------------------\n",
    "        original_model_predict = model_original(users, items)  # 原始模型预测\n",
    "        # 计算原始模型的二元交叉熵损失\n",
    "        original_model_bce_loss = bce_loss(original_model_predict.view(-1), rating)\n",
    "        # 获取原始模型的不活跃用户嵌入和邻居用户嵌入\n",
    "        inactive_embedding_samples_original = model_original.inactive_embeddings_for_my_loss(samples)\n",
    "        neighbor_embedding_samples_original = model_original.neighbor_embeddings_for_my_loss(samples)\n",
    "        # 计算原始模型的自定义损失（如公平性损失）\n",
    "        original_model_my_loss = my_loss(inactive_embedding_samples_original, neighbor_embedding_samples_original)\n",
    "        # 原始模型总损失（当前仅包含BCE损失）\n",
    "        original_model_loss = original_model_bce_loss\n",
    "        # 记录原始模型的各项损失\n",
    "        original_loss_list[0].append(original_model_loss.item())        # 总损失\n",
    "        original_loss_list[1].append(original_model_bce_loss.item())    # BCE损失\n",
    "        original_loss_list[2].append(original_model_my_loss.item())     # 自定义损失\n",
    "        # 反向传播并更新原始模型参数\n",
    "        original_model_loss.backward()\n",
    "        original_model_opt.step()\n",
    "        # ----------------------------------------------------\n",
    "        # 训练公平模型\n",
    "        # ----------------------------------------------------\n",
    "        fair_model_predict = model_fair(users, items)  # 公平模型预测\n",
    "        fair_model_bce_loss = bce_loss(fair_model_predict.view(-1), rating)  # 计算BCE损失\n",
    "        # 获取公平模型的不活跃用户嵌入和邻居用户嵌入\n",
    "        inactive_embedding_samples = model_fair.inactive_embeddings_for_my_loss(samples)\n",
    "        neighbor_embedding_samples = model_fair.neighbor_embeddings_for_my_loss(samples)\n",
    "        # 计算公平模型的自定义损失（如公平性损失）\n",
    "        fair_model_my_loss = my_loss(inactive_embedding_samples, neighbor_embedding_samples)\n",
    "        # 公平模型总损失 = BCE损失 + 自定义损失\n",
    "        fair_model_loss = fair_model_bce_loss + fair_model_my_loss\n",
    "        # 记录公平模型的各项损失\n",
    "        fair_loss_list[0].append(fair_model_loss.item())        # 总损失\n",
    "        fair_loss_list[1].append(fair_model_bce_loss.item())    # BCE损失\n",
    "        fair_loss_list[2].append(fair_model_my_loss.item())     # 自定义损失\n",
    "        # 反向传播并更新公平模型参数\n",
    "        fair_model_loss.backward()\n",
    "        fair_model_opt.step()\n",
    "    # 打印本轮训练的平均损失\n",
    "    if (epoch+1)%10 ==0:\n",
    "      print(SPLIT)  # 打印分隔线\n",
    "      print(f\"Train epoch: {epoch}\")  # 打印当前训练轮次\n",
    "      print(f\"Orin loss: {round(np.mean(original_loss_list[0]), 4)}, \"\n",
    "            f\"BCE loss: {round(np.mean(original_loss_list[1]), 4)}, \"\n",
    "            f\"my loss: {round(np.mean(original_loss_list[2]), 4)},\")\n",
    "      print(f\"Fair loss: {round(np.mean(fair_loss_list[0]), 4)}, \"\n",
    "            f\"BCE loss: {round(np.mean(fair_loss_list[1]), 4)}, \"\n",
    "            f\"my loss: {round(np.mean(fair_loss_list[2]), 4)},\")\n",
    "    # 将本轮自定义损失的平均值添加到全局列表\n",
    "    original_my_loss_values.append(np.mean(original_loss_list[2]))  # 原始模型的自定义损失\n",
    "    fair_my_loss_values.append(np.mean(fair_loss_list[2]))         # 公平模型的自定义损失"
   ]
  },
  {
   "cell_type": "markdown",
   "id": "63f28c16-f25f-485f-ae6a-016702ed3424",
   "metadata": {},
   "source": [
    "# Set Up and Load the Dataset"
   ]
  },
  {
   "cell_type": "code",
   "execution_count": 15,
   "id": "6c1c04a0-73d3-4816-9a1e-53f1ff56f2ea",
   "metadata": {
    "ExecuteTime": {
     "end_time": "2025-03-29T05:55:34.259771600Z",
     "start_time": "2025-03-29T05:33:10.895444Z"
    }
   },
   "outputs": [
    {
     "name": "stdout",
     "output_type": "stream",
     "text": [
      "Training on Epinion dataset...\n",
      "Load train, tune, test set...\n"
     ]
    },
    {
     "name": "stderr",
     "output_type": "stream",
     "text": [
      "  0%|          | 0/72496 [00:00<?, ?it/s]"
     ]
    },
    {
     "name": "stderr",
     "output_type": "stream",
     "text": [
      "100%|██████████| 72496/72496 [00:00<00:00, 538570.18it/s]\n",
      "100%|██████████| 10357/10357 [00:00<00:00, 595424.79it/s]\n",
      "100%|██████████| 20714/20714 [00:00<00:00, 525667.90it/s]\n"
     ]
    },
    {
     "name": "stdout",
     "output_type": "stream",
     "text": [
      "xxx\n"
     ]
    },
    {
     "name": "stderr",
     "output_type": "stream",
     "text": [
      "100%|██████████| 103567/103567 [00:00<00:00, 526505.14it/s]\n"
     ]
    },
    {
     "name": "stdout",
     "output_type": "stream",
     "text": [
      "Get negative item pool...\n",
      "Find similar users...\n",
      "Extract 3 active neighbors for each inactive user.\n",
      "Number of users: 2677, number of items: 2060\n",
      "Number of interactions: 103567, sparsity = 98.12%\n",
      "Load train, tune, test set...\n"
     ]
    },
    {
     "name": "stderr",
     "output_type": "stream",
     "text": [
      "100%|██████████| 72496/72496 [00:00<00:00, 523989.85it/s]\n",
      "100%|██████████| 10357/10357 [00:00<00:00, 407921.78it/s]\n",
      "100%|██████████| 20714/20714 [00:00<00:00, 519401.53it/s]\n"
     ]
    },
    {
     "name": "stdout",
     "output_type": "stream",
     "text": [
      "xxx\n"
     ]
    },
    {
     "name": "stderr",
     "output_type": "stream",
     "text": [
      "100%|██████████| 103567/103567 [00:00<00:00, 438659.64it/s]\n"
     ]
    },
    {
     "name": "stdout",
     "output_type": "stream",
     "text": [
      "Get negative item pool...\n",
      "Find similar users...\n",
      "Extract 3 active neighbors for each inactive user.\n",
      "Number of users: 2677, number of items: 2060\n",
      "Number of interactions: 103567, sparsity = 98.12%\n"
     ]
    },
    {
     "name": "stderr",
     "output_type": "stream",
     "text": [
      "354it [00:12, 29.32it/s]\n",
      "354it [00:12, 27.47it/s]\n",
      "354it [00:13, 26.35it/s]\n",
      "354it [00:13, 27.06it/s]\n",
      "354it [00:11, 29.64it/s]\n",
      "354it [00:12, 28.41it/s]\n",
      "354it [00:12, 29.31it/s]\n",
      "354it [00:12, 27.72it/s]\n",
      "354it [00:11, 30.45it/s]\n",
      "354it [00:11, 31.58it/s]\n"
     ]
    },
    {
     "name": "stdout",
     "output_type": "stream",
     "text": [
      "============================================================\n",
      "Train epoch: 9\n",
      "Orin loss: 0.4934, BCE loss: 0.4934, my loss: 7.3883,\n",
      "Fair loss: 7.0256, BCE loss: 0.4942, my loss: 6.5314,\n"
     ]
    },
    {
     "name": "stderr",
     "output_type": "stream",
     "text": [
      "354it [00:12, 29.00it/s]\n",
      "354it [00:11, 30.01it/s]\n",
      "354it [00:11, 31.24it/s]\n",
      "354it [00:11, 30.30it/s]\n",
      "354it [00:11, 31.29it/s]\n",
      "354it [00:10, 32.58it/s]\n",
      "354it [00:11, 30.34it/s]\n",
      "354it [00:11, 30.46it/s]\n",
      "354it [00:11, 31.82it/s]\n",
      "354it [00:11, 31.80it/s]\n"
     ]
    },
    {
     "name": "stdout",
     "output_type": "stream",
     "text": [
      "============================================================\n",
      "Train epoch: 19\n",
      "Orin loss: 0.4737, BCE loss: 0.4737, my loss: 4.8395,\n",
      "Fair loss: 4.3508, BCE loss: 0.4756, my loss: 3.8752,\n"
     ]
    },
    {
     "name": "stderr",
     "output_type": "stream",
     "text": [
      "354it [00:11, 29.55it/s]\n",
      "354it [00:12, 29.03it/s]\n",
      "354it [00:12, 28.22it/s]\n",
      "354it [00:12, 28.16it/s]\n",
      "354it [00:12, 28.14it/s]\n",
      "354it [00:13, 26.49it/s]\n",
      "354it [00:12, 28.26it/s]\n",
      "354it [00:12, 29.06it/s]\n",
      "354it [00:12, 29.03it/s]\n",
      "354it [00:12, 29.19it/s]\n"
     ]
    },
    {
     "name": "stdout",
     "output_type": "stream",
     "text": [
      "============================================================\n",
      "Train epoch: 29\n",
      "Orin loss: 0.4606, BCE loss: 0.4606, my loss: 3.0725,\n",
      "Fair loss: 2.6761, BCE loss: 0.4602, my loss: 2.2159,\n"
     ]
    },
    {
     "name": "stderr",
     "output_type": "stream",
     "text": [
      "354it [00:11, 30.33it/s]\n",
      "354it [00:11, 29.52it/s]\n",
      "354it [00:11, 30.35it/s]\n",
      "354it [00:11, 29.92it/s]\n",
      "354it [00:11, 30.36it/s]\n",
      "354it [00:11, 30.10it/s]\n",
      "354it [00:10, 32.34it/s]\n",
      "354it [00:12, 29.18it/s]\n",
      "354it [00:11, 30.09it/s]\n",
      "354it [00:11, 31.39it/s]\n"
     ]
    },
    {
     "name": "stdout",
     "output_type": "stream",
     "text": [
      "============================================================\n",
      "Train epoch: 39\n",
      "Orin loss: 0.4552, BCE loss: 0.4552, my loss: 2.0046,\n",
      "Fair loss: 1.7451, BCE loss: 0.4535, my loss: 1.2916,\n"
     ]
    },
    {
     "name": "stderr",
     "output_type": "stream",
     "text": [
      "354it [00:11, 30.62it/s]\n",
      "354it [00:11, 29.65it/s]\n",
      "354it [00:11, 30.83it/s]\n",
      "354it [00:12, 29.02it/s]\n",
      "354it [00:11, 29.78it/s]\n",
      "354it [00:12, 28.15it/s]\n",
      "354it [00:12, 27.53it/s]\n",
      "354it [00:13, 26.23it/s]\n",
      "354it [00:12, 27.62it/s]\n",
      "354it [00:13, 26.53it/s]\n"
     ]
    },
    {
     "name": "stdout",
     "output_type": "stream",
     "text": [
      "============================================================\n",
      "Train epoch: 49\n",
      "Orin loss: 0.452, BCE loss: 0.452, my loss: 1.3989,\n",
      "Fair loss: 1.259, BCE loss: 0.4472, my loss: 0.8117,\n"
     ]
    },
    {
     "name": "stderr",
     "output_type": "stream",
     "text": [
      "354it [00:12, 28.19it/s]\n",
      "354it [00:11, 29.70it/s]\n",
      "354it [00:11, 30.61it/s]\n",
      "354it [00:12, 27.59it/s]\n",
      "354it [00:11, 30.56it/s]\n",
      "354it [00:11, 29.59it/s]\n",
      "354it [00:12, 29.04it/s]\n",
      "354it [00:12, 29.01it/s]\n",
      "354it [00:13, 25.74it/s]\n",
      "354it [00:12, 28.90it/s]\n"
     ]
    },
    {
     "name": "stdout",
     "output_type": "stream",
     "text": [
      "============================================================\n",
      "Train epoch: 59\n",
      "Orin loss: 0.4489, BCE loss: 0.4489, my loss: 1.0745,\n",
      "Fair loss: 1.0221, BCE loss: 0.4383, my loss: 0.5839,\n"
     ]
    },
    {
     "name": "stderr",
     "output_type": "stream",
     "text": [
      "354it [00:11, 30.40it/s]\n",
      "354it [00:12, 28.68it/s]\n",
      "354it [00:10, 32.59it/s]\n",
      "354it [00:10, 34.61it/s]\n",
      "354it [00:12, 28.83it/s]\n",
      "354it [00:11, 29.82it/s]\n",
      "354it [00:11, 31.55it/s]\n",
      "354it [00:12, 27.87it/s]\n",
      "354it [00:11, 30.47it/s]\n",
      "354it [00:11, 31.30it/s]\n"
     ]
    },
    {
     "name": "stdout",
     "output_type": "stream",
     "text": [
      "============================================================\n",
      "Train epoch: 69\n",
      "Orin loss: 0.4448, BCE loss: 0.4448, my loss: 0.9058,\n",
      "Fair loss: 0.9139, BCE loss: 0.4258, my loss: 0.4881,\n"
     ]
    },
    {
     "name": "stderr",
     "output_type": "stream",
     "text": [
      "354it [00:12, 28.52it/s]\n",
      "354it [00:13, 26.76it/s]\n",
      "354it [00:11, 30.76it/s]\n",
      "354it [00:10, 35.38it/s]\n",
      "354it [00:11, 31.28it/s]\n",
      "354it [00:09, 36.14it/s]\n",
      "354it [00:09, 35.52it/s]\n",
      "354it [00:10, 34.60it/s]\n",
      "354it [00:10, 34.83it/s]\n",
      "354it [00:10, 33.76it/s]\n"
     ]
    },
    {
     "name": "stdout",
     "output_type": "stream",
     "text": [
      "============================================================\n",
      "Train epoch: 79\n",
      "Orin loss: 0.4381, BCE loss: 0.4381, my loss: 0.8253,\n",
      "Fair loss: 0.8659, BCE loss: 0.4108, my loss: 0.4551,\n"
     ]
    },
    {
     "name": "stderr",
     "output_type": "stream",
     "text": [
      "354it [00:10, 33.58it/s]\n",
      "354it [00:09, 36.36it/s]\n",
      "354it [00:10, 33.06it/s]\n",
      "354it [00:11, 30.25it/s]\n",
      "354it [00:10, 32.87it/s]\n",
      "354it [00:13, 27.09it/s]\n",
      "354it [00:12, 27.26it/s]\n",
      "354it [00:14, 24.28it/s]\n",
      "354it [00:14, 24.92it/s]\n",
      "354it [00:13, 25.78it/s]\n"
     ]
    },
    {
     "name": "stdout",
     "output_type": "stream",
     "text": [
      "============================================================\n",
      "Train epoch: 89\n",
      "Orin loss: 0.4253, BCE loss: 0.4253, my loss: 0.8151,\n",
      "Fair loss: 0.8455, BCE loss: 0.3956, my loss: 0.4499,\n"
     ]
    },
    {
     "name": "stderr",
     "output_type": "stream",
     "text": [
      "354it [00:14, 24.81it/s]\n",
      "354it [00:13, 26.42it/s]\n",
      "354it [00:15, 22.67it/s]\n",
      "354it [00:12, 29.33it/s]\n",
      "354it [00:13, 26.64it/s]\n",
      "354it [00:12, 28.00it/s]\n",
      "354it [00:11, 30.65it/s]\n",
      "354it [00:12, 28.45it/s]\n",
      "354it [00:11, 31.53it/s]\n",
      "354it [00:10, 32.82it/s]\n"
     ]
    },
    {
     "name": "stdout",
     "output_type": "stream",
     "text": [
      "============================================================\n",
      "Train epoch: 99\n",
      "Orin loss: 0.4011, BCE loss: 0.4011, my loss: 0.8734,\n",
      "Fair loss: 0.8394, BCE loss: 0.3811, my loss: 0.4583,\n",
      "Training on MovieLens dataset...\n",
      "Load train, tune, test set...\n"
     ]
    },
    {
     "name": "stderr",
     "output_type": "stream",
     "text": [
      "100%|██████████| 69500/69500 [00:00<00:00, 539807.46it/s]\n",
      "100%|██████████| 9929/9929 [00:00<00:00, 558921.55it/s]\n",
      "100%|██████████| 19858/19858 [00:00<00:00, 602249.39it/s]\n"
     ]
    },
    {
     "name": "stdout",
     "output_type": "stream",
     "text": [
      "xxx\n"
     ]
    },
    {
     "name": "stderr",
     "output_type": "stream",
     "text": [
      "100%|██████████| 99287/99287 [00:00<00:00, 761396.75it/s]\n"
     ]
    },
    {
     "name": "stdout",
     "output_type": "stream",
     "text": [
      "Get negative item pool...\n",
      "Find similar users...\n",
      "Extract 3 active neighbors for each inactive user.\n",
      "Number of users: 943, number of items: 1349\n",
      "Number of interactions: 99287, sparsity = 92.2%\n",
      "Load train, tune, test set...\n"
     ]
    },
    {
     "name": "stderr",
     "output_type": "stream",
     "text": [
      "100%|██████████| 69500/69500 [00:00<00:00, 566583.01it/s]\n",
      "100%|██████████| 9929/9929 [00:00<00:00, 566972.23it/s]\n",
      "100%|██████████| 19858/19858 [00:00<00:00, 588168.13it/s]"
     ]
    },
    {
     "name": "stdout",
     "output_type": "stream",
     "text": [
      "xxx\n"
     ]
    },
    {
     "name": "stderr",
     "output_type": "stream",
     "text": [
      "\n",
      "100%|██████████| 99287/99287 [00:00<00:00, 581027.53it/s]\n"
     ]
    },
    {
     "name": "stdout",
     "output_type": "stream",
     "text": [
      "Get negative item pool...\n",
      "Find similar users...\n",
      "Extract 3 active neighbors for each inactive user.\n",
      "Number of users: 943, number of items: 1349\n",
      "Number of interactions: 99287, sparsity = 92.2%\n"
     ]
    },
    {
     "name": "stderr",
     "output_type": "stream",
     "text": [
      "331it [00:09, 35.35it/s]\n",
      "331it [00:09, 33.18it/s]\n",
      "331it [00:08, 36.78it/s]\n",
      "331it [00:09, 36.41it/s]\n",
      "331it [00:10, 32.31it/s]\n",
      "331it [00:09, 33.14it/s]\n",
      "331it [00:09, 33.26it/s]\n",
      "331it [00:09, 33.46it/s]\n",
      "331it [00:10, 32.89it/s]\n",
      "331it [00:10, 31.40it/s]\n"
     ]
    },
    {
     "name": "stdout",
     "output_type": "stream",
     "text": [
      "============================================================\n",
      "Train epoch: 9\n",
      "Orin loss: 0.4659, BCE loss: 0.4659, my loss: 2.6405,\n",
      "Fair loss: 2.7422, BCE loss: 0.4536, my loss: 2.2887,\n"
     ]
    },
    {
     "name": "stderr",
     "output_type": "stream",
     "text": [
      "331it [00:10, 30.52it/s]\n",
      "331it [00:10, 30.79it/s]\n",
      "331it [00:09, 34.96it/s]\n",
      "331it [00:09, 33.55it/s]\n",
      "331it [00:09, 33.39it/s]\n",
      "331it [00:10, 31.64it/s]\n",
      "331it [00:10, 32.51it/s]\n",
      "331it [00:10, 32.42it/s]\n",
      "331it [00:09, 35.51it/s]\n",
      "331it [00:09, 35.85it/s]\n"
     ]
    },
    {
     "name": "stdout",
     "output_type": "stream",
     "text": [
      "============================================================\n",
      "Train epoch: 19\n",
      "Orin loss: 0.409, BCE loss: 0.409, my loss: 1.8816,\n",
      "Fair loss: 1.8483, BCE loss: 0.4048, my loss: 1.4435,\n"
     ]
    },
    {
     "name": "stderr",
     "output_type": "stream",
     "text": [
      "331it [00:09, 36.48it/s]\n",
      "331it [00:08, 37.38it/s]\n",
      "331it [00:09, 35.76it/s]\n",
      "331it [00:09, 34.62it/s]\n",
      "331it [00:09, 35.34it/s]\n",
      "331it [00:09, 34.73it/s]\n",
      "331it [00:09, 34.17it/s]\n",
      "331it [00:10, 30.54it/s]\n",
      "331it [00:10, 32.03it/s]\n",
      "331it [00:11, 29.85it/s]\n"
     ]
    },
    {
     "name": "stdout",
     "output_type": "stream",
     "text": [
      "============================================================\n",
      "Train epoch: 29\n",
      "Orin loss: 0.3942, BCE loss: 0.3942, my loss: 1.3544,\n",
      "Fair loss: 1.2834, BCE loss: 0.394, my loss: 0.8894,\n"
     ]
    },
    {
     "name": "stderr",
     "output_type": "stream",
     "text": [
      "331it [00:10, 32.75it/s]\n",
      "331it [00:10, 30.82it/s]\n",
      "331it [00:10, 31.62it/s]\n",
      "331it [00:09, 34.47it/s]\n",
      "331it [00:10, 32.31it/s]\n",
      "331it [00:09, 34.24it/s]\n",
      "331it [00:10, 31.10it/s]\n",
      "331it [00:11, 29.80it/s]\n",
      "331it [00:10, 30.87it/s]\n",
      "331it [00:10, 32.65it/s]\n"
     ]
    },
    {
     "name": "stdout",
     "output_type": "stream",
     "text": [
      "============================================================\n",
      "Train epoch: 39\n",
      "Orin loss: 0.3888, BCE loss: 0.3888, my loss: 1.0398,\n",
      "Fair loss: 0.9639, BCE loss: 0.3899, my loss: 0.574,\n"
     ]
    },
    {
     "name": "stderr",
     "output_type": "stream",
     "text": [
      "331it [00:09, 34.56it/s]\n",
      "331it [00:09, 34.82it/s]\n",
      "331it [00:10, 31.66it/s]\n",
      "331it [00:10, 32.52it/s]\n",
      "331it [00:09, 34.79it/s]\n",
      "331it [00:09, 33.81it/s]\n",
      "331it [00:10, 30.56it/s]\n",
      "331it [00:10, 31.93it/s]\n",
      "331it [00:09, 33.28it/s]\n",
      "331it [00:10, 32.32it/s]\n"
     ]
    },
    {
     "name": "stdout",
     "output_type": "stream",
     "text": [
      "============================================================\n",
      "Train epoch: 49\n",
      "Orin loss: 0.3855, BCE loss: 0.3855, my loss: 0.8524,\n",
      "Fair loss: 0.7941, BCE loss: 0.3864, my loss: 0.4078,\n"
     ]
    },
    {
     "name": "stderr",
     "output_type": "stream",
     "text": [
      "331it [00:10, 32.46it/s]\n",
      "331it [00:10, 32.14it/s]\n",
      "331it [00:10, 31.30it/s]\n",
      "331it [00:10, 31.47it/s]\n",
      "331it [00:10, 32.74it/s]\n",
      "331it [00:09, 34.58it/s]\n",
      "331it [00:10, 31.54it/s]\n",
      "331it [00:09, 36.05it/s]\n",
      "331it [00:08, 37.54it/s]\n",
      "331it [00:08, 38.26it/s]\n"
     ]
    },
    {
     "name": "stdout",
     "output_type": "stream",
     "text": [
      "============================================================\n",
      "Train epoch: 59\n",
      "Orin loss: 0.3825, BCE loss: 0.3825, my loss: 0.734,\n",
      "Fair loss: 0.7049, BCE loss: 0.3807, my loss: 0.3242,\n"
     ]
    },
    {
     "name": "stderr",
     "output_type": "stream",
     "text": [
      "331it [00:09, 34.98it/s]\n",
      "331it [00:09, 35.85it/s]\n",
      "331it [00:09, 34.46it/s]\n",
      "331it [00:10, 33.00it/s]\n",
      "331it [00:09, 33.17it/s]\n",
      "331it [00:10, 31.86it/s]\n",
      "331it [00:10, 32.00it/s]\n",
      "331it [00:11, 29.34it/s]\n",
      "331it [00:10, 31.85it/s]\n",
      "331it [00:11, 29.18it/s]\n"
     ]
    },
    {
     "name": "stdout",
     "output_type": "stream",
     "text": [
      "============================================================\n",
      "Train epoch: 69\n",
      "Orin loss: 0.3785, BCE loss: 0.3785, my loss: 0.6549,\n",
      "Fair loss: 0.6549, BCE loss: 0.3705, my loss: 0.2844,\n"
     ]
    },
    {
     "name": "stderr",
     "output_type": "stream",
     "text": [
      "331it [00:09, 35.14it/s]\n",
      "331it [00:09, 33.51it/s]\n",
      "331it [00:10, 32.92it/s]\n",
      "331it [00:09, 33.25it/s]\n",
      "331it [00:09, 35.19it/s]\n",
      "331it [00:09, 35.87it/s]\n",
      "331it [00:09, 35.33it/s]\n",
      "331it [00:10, 32.97it/s]\n",
      "331it [00:09, 33.73it/s]\n",
      "331it [00:10, 30.61it/s]\n"
     ]
    },
    {
     "name": "stdout",
     "output_type": "stream",
     "text": [
      "============================================================\n",
      "Train epoch: 79\n",
      "Orin loss: 0.372, BCE loss: 0.372, my loss: 0.6023,\n",
      "Fair loss: 0.6214, BCE loss: 0.3543, my loss: 0.2671,\n"
     ]
    },
    {
     "name": "stderr",
     "output_type": "stream",
     "text": [
      "331it [00:10, 31.23it/s]\n",
      "331it [00:10, 31.86it/s]\n",
      "331it [00:10, 32.10it/s]\n",
      "331it [00:10, 31.17it/s]\n",
      "331it [00:10, 32.63it/s]\n",
      "331it [00:11, 29.60it/s]\n",
      "331it [00:11, 29.60it/s]\n",
      "331it [00:11, 29.39it/s]\n",
      "331it [00:10, 30.78it/s]\n",
      "331it [00:11, 29.86it/s]\n"
     ]
    },
    {
     "name": "stdout",
     "output_type": "stream",
     "text": [
      "============================================================\n",
      "Train epoch: 89\n",
      "Orin loss: 0.3597, BCE loss: 0.3597, my loss: 0.5686,\n",
      "Fair loss: 0.5946, BCE loss: 0.3358, my loss: 0.2589,\n"
     ]
    },
    {
     "name": "stderr",
     "output_type": "stream",
     "text": [
      "331it [00:11, 29.04it/s]\n",
      "331it [00:10, 31.72it/s]\n",
      "331it [00:11, 29.07it/s]\n",
      "331it [00:10, 32.94it/s]\n",
      "331it [00:10, 32.00it/s]\n",
      "331it [00:10, 32.45it/s]\n",
      "331it [00:10, 32.79it/s]\n",
      "331it [00:11, 29.69it/s]\n",
      "331it [00:10, 32.90it/s]\n",
      "331it [00:10, 32.87it/s]\n"
     ]
    },
    {
     "name": "stdout",
     "output_type": "stream",
     "text": [
      "============================================================\n",
      "Train epoch: 99\n",
      "Orin loss: 0.3379, BCE loss: 0.3379, my loss: 0.5508,\n",
      "Fair loss: 0.5733, BCE loss: 0.3197, my loss: 0.2536,\n",
      "Training on Gowalla dataset...\n",
      "Load train, tune, test set...\n"
     ]
    },
    {
     "name": "stderr",
     "output_type": "stream",
     "text": [
      "100%|██████████| 46371/46371 [00:00<00:00, 515310.27it/s]\n",
      "100%|██████████| 6625/6625 [00:00<00:00, 540072.38it/s]\n",
      "100%|██████████| 13249/13249 [00:00<00:00, 534870.14it/s]\n"
     ]
    },
    {
     "name": "stdout",
     "output_type": "stream",
     "text": [
      "xxx\n"
     ]
    },
    {
     "name": "stderr",
     "output_type": "stream",
     "text": [
      "100%|██████████| 66245/66245 [00:00<00:00, 709217.78it/s]\n"
     ]
    },
    {
     "name": "stdout",
     "output_type": "stream",
     "text": [
      "Get negative item pool...\n",
      "Find similar users...\n",
      "Extract 3 active neighbors for each inactive user.\n",
      "Number of users: 1130, number of items: 1189\n",
      "Number of interactions: 66245, sparsity = 95.07%\n",
      "Load train, tune, test set...\n"
     ]
    },
    {
     "name": "stderr",
     "output_type": "stream",
     "text": [
      "100%|██████████| 46371/46371 [00:00<00:00, 521332.59it/s]\n",
      "100%|██████████| 6625/6625 [00:00<00:00, 500427.97it/s]\n",
      "100%|██████████| 13249/13249 [00:00<00:00, 543384.80it/s]\n"
     ]
    },
    {
     "name": "stdout",
     "output_type": "stream",
     "text": [
      "xxx\n"
     ]
    },
    {
     "name": "stderr",
     "output_type": "stream",
     "text": [
      "100%|██████████| 66245/66245 [00:00<00:00, 609283.75it/s]\n"
     ]
    },
    {
     "name": "stdout",
     "output_type": "stream",
     "text": [
      "Get negative item pool...\n",
      "Find similar users...\n",
      "Extract 3 active neighbors for each inactive user.\n",
      "Number of users: 1130, number of items: 1189\n",
      "Number of interactions: 66245, sparsity = 95.07%\n"
     ]
    },
    {
     "name": "stderr",
     "output_type": "stream",
     "text": [
      "227it [00:07, 30.02it/s]\n",
      "227it [00:07, 30.25it/s]\n",
      "227it [00:06, 33.02it/s]\n",
      "227it [00:07, 32.31it/s]\n",
      "227it [00:07, 29.50it/s]\n",
      "227it [00:07, 30.55it/s]\n",
      "227it [00:07, 32.24it/s]\n",
      "227it [00:06, 34.00it/s]\n",
      "227it [00:06, 34.73it/s]\n",
      "227it [00:07, 32.34it/s]\n"
     ]
    },
    {
     "name": "stdout",
     "output_type": "stream",
     "text": [
      "============================================================\n",
      "Train epoch: 9\n",
      "Orin loss: 0.4946, BCE loss: 0.4946, my loss: 3.2528,\n",
      "Fair loss: 3.7413, BCE loss: 0.495, my loss: 3.2463,\n"
     ]
    },
    {
     "name": "stderr",
     "output_type": "stream",
     "text": [
      "227it [00:07, 32.21it/s]\n",
      "227it [00:06, 32.92it/s]\n",
      "227it [00:06, 33.51it/s]\n",
      "227it [00:07, 31.65it/s]\n",
      "227it [00:07, 29.82it/s]\n",
      "227it [00:06, 33.04it/s]\n",
      "227it [00:07, 31.26it/s]\n",
      "227it [00:07, 31.22it/s]\n",
      "227it [00:07, 29.87it/s]\n",
      "227it [00:07, 31.92it/s]\n"
     ]
    },
    {
     "name": "stdout",
     "output_type": "stream",
     "text": [
      "============================================================\n",
      "Train epoch: 19\n",
      "Orin loss: 0.4835, BCE loss: 0.4835, my loss: 2.5845,\n",
      "Fair loss: 2.897, BCE loss: 0.4847, my loss: 2.4123,\n"
     ]
    },
    {
     "name": "stderr",
     "output_type": "stream",
     "text": [
      "227it [00:06, 34.24it/s]\n",
      "227it [00:06, 35.56it/s]\n",
      "227it [00:07, 32.01it/s]\n",
      "227it [00:07, 30.75it/s]\n",
      "227it [00:07, 31.32it/s]\n",
      "227it [00:06, 32.68it/s]\n",
      "227it [00:07, 28.67it/s]\n",
      "227it [00:08, 28.29it/s]\n",
      "227it [00:08, 27.65it/s]\n",
      "227it [00:08, 28.12it/s]\n"
     ]
    },
    {
     "name": "stdout",
     "output_type": "stream",
     "text": [
      "============================================================\n",
      "Train epoch: 29\n",
      "Orin loss: 0.4705, BCE loss: 0.4705, my loss: 1.986,\n",
      "Fair loss: 2.2178, BCE loss: 0.474, my loss: 1.7438,\n"
     ]
    },
    {
     "name": "stderr",
     "output_type": "stream",
     "text": [
      "227it [00:07, 31.97it/s]\n",
      "227it [00:07, 30.71it/s]\n",
      "227it [00:08, 27.82it/s]\n",
      "227it [00:07, 28.66it/s]\n",
      "227it [00:07, 30.73it/s]\n",
      "227it [00:07, 30.64it/s]\n",
      "227it [00:07, 29.22it/s]\n",
      "227it [00:07, 31.63it/s]\n",
      "227it [00:07, 30.98it/s]\n",
      "227it [00:06, 32.52it/s]\n"
     ]
    },
    {
     "name": "stdout",
     "output_type": "stream",
     "text": [
      "============================================================\n",
      "Train epoch: 39\n",
      "Orin loss: 0.4634, BCE loss: 0.4634, my loss: 1.5325,\n",
      "Fair loss: 1.72, BCE loss: 0.4659, my loss: 1.2541,\n"
     ]
    },
    {
     "name": "stderr",
     "output_type": "stream",
     "text": [
      "227it [00:07, 30.24it/s]\n",
      "227it [00:07, 32.03it/s]\n",
      "227it [00:06, 33.85it/s]\n",
      "227it [00:06, 32.70it/s]\n",
      "227it [00:06, 33.23it/s]\n",
      "227it [00:06, 34.14it/s]\n",
      "227it [00:07, 32.27it/s]\n",
      "227it [00:08, 27.78it/s]\n",
      "227it [00:08, 27.93it/s]\n",
      "227it [00:08, 25.72it/s]\n"
     ]
    },
    {
     "name": "stdout",
     "output_type": "stream",
     "text": [
      "============================================================\n",
      "Train epoch: 49\n",
      "Orin loss: 0.4594, BCE loss: 0.4594, my loss: 1.2115,\n",
      "Fair loss: 1.3771, BCE loss: 0.4609, my loss: 0.9162,\n"
     ]
    },
    {
     "name": "stderr",
     "output_type": "stream",
     "text": [
      "227it [00:07, 29.54it/s]\n",
      "227it [00:08, 26.67it/s]\n",
      "227it [00:07, 31.98it/s]\n",
      "227it [00:07, 31.73it/s]\n",
      "227it [00:06, 32.67it/s]\n",
      "227it [00:07, 29.64it/s]\n",
      "227it [00:06, 34.94it/s]\n",
      "227it [00:07, 29.55it/s]\n",
      "227it [00:07, 30.93it/s]\n",
      "227it [00:07, 29.24it/s]\n"
     ]
    },
    {
     "name": "stdout",
     "output_type": "stream",
     "text": [
      "============================================================\n",
      "Train epoch: 59\n",
      "Orin loss: 0.4566, BCE loss: 0.4566, my loss: 0.9883,\n",
      "Fair loss: 1.1472, BCE loss: 0.4571, my loss: 0.6901,\n"
     ]
    },
    {
     "name": "stderr",
     "output_type": "stream",
     "text": [
      "227it [00:07, 31.43it/s]\n",
      "227it [00:07, 31.90it/s]\n",
      "227it [00:07, 29.27it/s]\n",
      "227it [00:07, 32.16it/s]\n",
      "227it [00:08, 28.13it/s]\n",
      "227it [00:08, 28.18it/s]\n",
      "227it [00:06, 33.94it/s]\n",
      "227it [00:07, 32.31it/s]\n",
      "227it [00:06, 33.74it/s]\n",
      "227it [00:07, 32.15it/s]\n"
     ]
    },
    {
     "name": "stdout",
     "output_type": "stream",
     "text": [
      "============================================================\n",
      "Train epoch: 69\n",
      "Orin loss: 0.4536, BCE loss: 0.4536, my loss: 0.8353,\n",
      "Fair loss: 0.9949, BCE loss: 0.452, my loss: 0.543,\n"
     ]
    },
    {
     "name": "stderr",
     "output_type": "stream",
     "text": [
      "227it [00:07, 30.39it/s]\n",
      "227it [00:07, 30.83it/s]\n",
      "227it [00:07, 28.44it/s]\n",
      "227it [00:08, 26.19it/s]\n",
      "227it [00:07, 29.92it/s]\n",
      "227it [00:07, 30.52it/s]\n",
      "227it [00:07, 30.59it/s]\n",
      "227it [00:07, 31.61it/s]\n",
      "227it [00:06, 32.82it/s]\n",
      "227it [00:06, 33.24it/s]\n"
     ]
    },
    {
     "name": "stdout",
     "output_type": "stream",
     "text": [
      "============================================================\n",
      "Train epoch: 79\n",
      "Orin loss: 0.4499, BCE loss: 0.4499, my loss: 0.732,\n",
      "Fair loss: 0.8945, BCE loss: 0.4439, my loss: 0.4506,\n"
     ]
    },
    {
     "name": "stderr",
     "output_type": "stream",
     "text": [
      "227it [00:06, 34.50it/s]\n",
      "227it [00:07, 30.37it/s]\n",
      "227it [00:07, 30.21it/s]\n",
      "227it [00:07, 32.19it/s]\n",
      "227it [00:06, 34.10it/s]\n",
      "227it [00:07, 30.09it/s]\n",
      "227it [00:06, 32.96it/s]\n",
      "227it [00:07, 32.13it/s]\n",
      "227it [00:07, 30.13it/s]\n",
      "227it [00:07, 29.67it/s]\n"
     ]
    },
    {
     "name": "stdout",
     "output_type": "stream",
     "text": [
      "============================================================\n",
      "Train epoch: 89\n",
      "Orin loss: 0.445, BCE loss: 0.445, my loss: 0.6623,\n",
      "Fair loss: 0.8268, BCE loss: 0.4321, my loss: 0.3947,\n"
     ]
    },
    {
     "name": "stderr",
     "output_type": "stream",
     "text": [
      "227it [00:06, 32.78it/s]\n",
      "227it [00:06, 37.56it/s]\n",
      "227it [00:07, 30.38it/s]\n",
      "227it [00:07, 30.61it/s]\n",
      "227it [00:06, 33.95it/s]\n",
      "227it [00:06, 33.35it/s]\n",
      "227it [00:07, 30.35it/s]\n",
      "227it [00:07, 29.31it/s]\n",
      "227it [00:07, 31.68it/s]\n",
      "227it [00:07, 31.39it/s]"
     ]
    },
    {
     "name": "stdout",
     "output_type": "stream",
     "text": [
      "============================================================\n",
      "Train epoch: 99\n",
      "Orin loss: 0.4383, BCE loss: 0.4383, my loss: 0.616,\n",
      "Fair loss: 0.7798, BCE loss: 0.4167, my loss: 0.3631,\n"
     ]
    },
    {
     "name": "stderr",
     "output_type": "stream",
     "text": [
      "\n"
     ]
    }
   ],
   "source": [
    "# 数据集配置\n",
    "import config  # 导入配置文件模块\n",
    "# 定义要使用的数据集列表\n",
    "datasets = [\"Epinion\", \"MovieLens\", \"Gowalla\"]\n",
    "# 创建字典用于存储不同数据集的损失值\n",
    "loss_values = {}\n",
    "# 获取NeuMF模型的配置参数\n",
    "config = config.neumf_config\n",
    "# 定义二元交叉熵损失函数\n",
    "bce_loss = torch.nn.BCELoss()\n",
    "# 定义自定义损失函数（带L2正则化）\n",
    "my_loss = myLoss(l2=L2)\n",
    "# 遍历每个数据集进行训练\n",
    "for dataset_name in datasets:\n",
    "    # 设置实验参数\n",
    "    args = {\n",
    "        'no_cuda': False,              # 是否禁用CUDA\n",
    "        'seed': 10,                    # 随机种子（用于可复现性）\n",
    "        'epochs': 100,                 # 训练轮次\n",
    "        'model': \"NeuMF\",              # 使用的模型名称\n",
    "        'cuda_index': 0,               # 使用的GPU索引\n",
    "        'dataset': dataset_name,        # 当前数据集名称\n",
    "        'split': \"count\",              # 数据集划分方式\n",
    "        'random_seed': 42,             # 额外随机种子（用于采样等）\n",
    "        'neighbor_num': 3,             # 邻居用户数量\n",
    "        'log': f'logs/{dataset_name}', # 日志保存路径\n",
    "        'model_time': 0                # 模型时间戳（用于版本管理）\n",
    "    }\n",
    "    # 设置随机种子以保证可复现性\n",
    "    set_seed(args['seed'])\n",
    "    # 设置计算设备（优先使用GPU）\n",
    "    device = torch.device(f\"cuda:{args['cuda_index']}\" if torch.cuda.is_available() else \"cpu\")\n",
    "    # 创建结果保存目录\n",
    "    result_dir = os.path.join(\"result\", dataset_name)\n",
    "    if not os.path.exists(result_dir):\n",
    "        # 如果目录不存在则创建（包括所有父目录）\n",
    "        os.makedirs(result_dir, exist_ok=True)\n",
    "    # 在数据集目录下创建模型特定子目录\n",
    "    result_dir = os.path.join(result_dir, args['model'])\n",
    "    if not os.path.exists(result_dir):\n",
    "        # 创建模型特定目录\n",
    "        os.mkdir(result_dir)\n",
    "    # 打印当前训练的数据集信息\n",
    "    print(f\"Training on {dataset_name} dataset...\")\n",
    "    # 初始化自定义数据集对象\n",
    "    dataset = myDatasetNew(dataset=args['dataset'], \n",
    "                          train_neg_num=config[\"num_negative\"],  # 每个正样本对应的负样本数量\n",
    "                          neighbor_num=args['neighbor_num'],     # 邻居数量\n",
    "                          result_path=result_dir)               # 结果保存路径\n",
    "    # 获取数据集统计信息\n",
    "    user_num, item_num, active_users, inactive_users = dataset.get_statistic()\n",
    "    # 获取用户相似度矩阵\n",
    "    similarity_matrix = dataset.get_user_similarity_matrix()\n",
    "    # 创建UCDS（用户聚类主导集）模型\n",
    "    InUCDS = ucds.InUCDS(num_users=user_num, \n",
    "                         active_ids=active_users,       # 活跃用户ID列表\n",
    "                         inactive_ids=inactive_users,   # 不活跃用户ID列表\n",
    "                         similarity_matrix=similarity_matrix)  # 用户相似度矩阵\n",
    "    \n",
    "    # 为所有不活跃用户生成主导集（dominant sets）\n",
    "    samples = InUCDS.generate_dominant_sets_for_all_inactive(neighbor_num=args['neighbor_num'])\n",
    "    # 重新初始化数据集（确保数据一致性）\n",
    "    dataset = myDatasetNew(dataset=dataset_name, \n",
    "                          train_neg_num=config[\"num_negative\"],\n",
    "                          neighbor_num=args['neighbor_num'], \n",
    "                          result_path=result_dir)\n",
    "    # 模型选择字典（目前只支持NeuMF）\n",
    "    model_dic = {\n",
    "        'NeuMF': NeuMF.NeuMF  # 神经矩阵分解模型\n",
    "    }\n",
    "    # 获取模型类\n",
    "    model_class = model_dic[args['model']]\n",
    "    # 创建原始模型实例\n",
    "    model_original = model_class(config, user_num, item_num, device=device)\n",
    "    # 创建公平模型实例\n",
    "    model_fair = model_class(config, user_num, item_num, device=device)\n",
    "    # 将模型移动到指定计算设备（GPU或CPU）\n",
    "    model_original.to(device)\n",
    "    model_fair.to(device)\n",
    "    # 创建原始模型的优化器\n",
    "    original_model_opt = torch.optim.Adam(model_original.parameters(),\n",
    "                                         lr=config['adam_lr'],          # 学习率\n",
    "                                         weight_decay=config['l2_regularization'])  # L2正则化系数\n",
    "    # 创建公平模型的优化器\n",
    "    fair_model_opt = torch.optim.Adam(model_fair.parameters(),\n",
    "                                     lr=config['adam_lr'], \n",
    "                                     weight_decay=config['l2_regularization'])\n",
    "    # 创建数据加载器\n",
    "    sample_generator = dataset.instance_a_train_loader(config['batch_size'])\n",
    "    # 清除之前的损失记录（为当前数据集准备）\n",
    "    original_my_loss_values.clear()  # 清空原始模型的自定义损失记录\n",
    "    fair_my_loss_values.clear()      # 清空公平模型的自定义损失记录\n",
    "    # 训练循环\n",
    "    for epoch in range(args['epochs']):\n",
    "        # 调用训练函数进行一个epoch的训练\n",
    "        train_InUCDS(epoch)\n",
    "    # 保存当前数据集的损失值\n",
    "    loss_values[dataset_name] = {\n",
    "        'original': original_my_loss_values.copy(),  # 原始模型的自定义损失历史\n",
    "        'fair': fair_my_loss_values.copy()           # 公平模型的自定义损失历史\n",
    "    }"
   ]
  },
  {
   "cell_type": "markdown",
   "id": "3057fa97-da2b-4a09-aa82-7d55dd100e85",
   "metadata": {},
   "source": [
    "# Plot the Loss Curve"
   ]
  },
  {
   "cell_type": "code",
   "execution_count": 16,
   "id": "05d3c11b-6172-466c-8de7-d10493692fa9",
   "metadata": {
    "ExecuteTime": {
     "end_time": "2025-03-29T05:55:34.682520200Z",
     "start_time": "2025-03-29T05:55:34.253312600Z"
    }
   },
   "outputs": [
    {
     "data": {
      "image/png": "[encoded data removed]",
      "text/plain": [
       "<Figure size 800x500 with 1 Axes>"
      ]
     },
     "metadata": {},
     "output_type": "display_data"
    },
    {
     "data": {
      "image/png": "[encoded data removed]",
      "text/plain": [
       "<Figure size 640x480 with 1 Axes>"
      ]
     },
     "metadata": {},
     "output_type": "display_data"
    },
    {
     "data": {
      "image/png": "[encoded data removed]",
      "text/plain": [
       "<Figure size 640x480 with 1 Axes>"
      ]
     },
     "metadata": {},
     "output_type": "display_data"
    }
   ],
   "source": [
    "# 创建8x5英寸大小的图形\n",
    "plt.figure(figsize=(8, 5))\n",
    "# 遍历每个数据集\n",
    "for dataset_name in datasets:\n",
    "    # 获取当前数据集的原始模型损失值\n",
    "    original_loss = loss_values[dataset_name]['original']\n",
    "    # 获取当前数据集的公平模型损失值\n",
    "    fair_loss = loss_values[dataset_name]['fair']\n",
    "    # 对损失值进行归一化处理（除以最大值）\n",
    "    original_loss_normalized = original_loss / np.max(original_loss)\n",
    "    fair_loss_normalized = fair_loss / np.max(fair_loss)\n",
    "    # 绘制原始模型的归一化损失曲线（蓝色）\n",
    "    plt.plot(range(1, args['epochs'] + 1), original_loss_normalized, \n",
    "             color='blue', label='Original Model')\n",
    "    # 绘制公平模型(In-UCDS)的归一化损失曲线（深橙色）\n",
    "    plt.plot(range(1, args['epochs'] + 1), fair_loss_normalized, \n",
    "             color='darkorange', label='In-UCDS')\n",
    "    # 设置图表标题为当前数据集名称\n",
    "    plt.title(f'{dataset_name}')\n",
    "    # 设置X轴标签\n",
    "    plt.xlabel('Train Epoch')\n",
    "    # 显示图例\n",
    "    plt.legend()\n",
    "    # 禁用网格线\n",
    "    plt.grid(False)\n",
    "    # 设置X轴刻度位置\n",
    "    plt.xticks([0, 25, 50, 75, 100])\n",
    "    # 设置Y轴刻度位置\n",
    "    plt.yticks([0.2, 0.4, 0.6, 0.8, 1])\n",
    "    # 自定义刻度标记样式（禁用所有方向的刻度线）\n",
    "    plt.tick_params(axis='both', which='both', \n",
    "                    bottom=False, top=False, \n",
    "                    left=False, right=False)\n",
    "    # 将图表保存为PNG文件（以数据集命名）\n",
    "    plt.savefig(f\"{dataset_name}.png\")\n",
    "    # 显示当前图表\n",
    "    plt.show()"
   ]
  },
  {
   "cell_type": "markdown",
   "id": "f28e6002-c262-48fb-919f-3aacfbd24809",
   "metadata": {},
   "source": []
  }
 ],
 "metadata": {
  "kernelspec": {
   "display_name": "UCDS",
   "language": "python",
   "name": "python3"
  },
  "language_info": {
   "codemirror_mode": {
    "name": "ipython",
    "version": 3
   },
   "file_extension": ".py",
   "mimetype": "text/x-python",
   "name": "python",
   "nbconvert_exporter": "python",
   "pygments_lexer": "ipython3",
   "version": "3.9.21"
  }
 },
 "nbformat": 4,
 "nbformat_minor": 5
}
